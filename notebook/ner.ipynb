{
 "cells": [
  {
   "cell_type": "code",
   "execution_count": null,
   "id": "da3dd8a2",
   "metadata": {},
   "outputs": [],
   "source": [
    "from natasha import (\n",
    "    Segmenter,\n",
    "    MorphVocab,\n",
    "    \n",
    "    NewsEmbedding,\n",
    "    NewsMorphTagger,\n",
    "    NewsSyntaxParser,\n",
    "    NewsNERTagger,\n",
    "    \n",
    "    PER,\n",
    "    NamesExtractor,\n",
    "    DatesExtractor,\n",
    "    MoneyExtractor,\n",
    "    AddrExtractor,\n",
    "\n",
    "    Doc\n",
    ")\n",
    "\n",
    "segmenter = Segmenter()\n",
    "morph_vocab = MorphVocab()\n",
    "\n",
    "emb = NewsEmbedding()\n",
    "morph_tagger = NewsMorphTagger(emb)\n",
    "syntax_parser = NewsSyntaxParser(emb)\n",
    "ner_tagger = NewsNERTagger(emb)\n",
    "\n",
    "names_extractor = NamesExtractor(morph_vocab)\n",
    "dates_extractor = DatesExtractor(morph_vocab)\n",
    "money_extractor = MoneyExtractor(morph_vocab)\n",
    "addr_extractor = AddrExtractor(morph_vocab)"
   ]
  },
  {
   "cell_type": "code",
   "execution_count": null,
   "id": "9b13a541",
   "metadata": {},
   "outputs": [],
   "source": [
    "def context(text: str, start: int, end: int, size:int = 20):\n",
    "    return \"... {} ...\".format(text[max(0, start - size):min(len(text) - 1, end + size)])\n",
    "    "
   ]
  },
  {
   "cell_type": "code",
   "execution_count": null,
   "id": "a137c9a6",
   "metadata": {},
   "outputs": [],
   "source": [
    "def nerr(text):\n",
    "    doc = Doc(text)\n",
    "    doc.segment(segmenter)\n",
    "    doc.tag_morph(morph_tagger)\n",
    "    doc.parse_syntax(syntax_parser)\n",
    "    doc.tag_ner(ner_tagger)\n",
    "    for span in doc.spans:\n",
    "        span.normalize(morph_vocab)\n",
    "    return [{'text': _.text, 'normal': _.normal, 'type': _.type, \n",
    "             'context': context(text, _.start, _.stop),\n",
    "             'start': _.start, 'stop': _.stop\n",
    "            } for _ in doc.spans]\n",
    "    "
   ]
  },
  {
   "cell_type": "code",
   "execution_count": null,
   "id": "24d1e225",
   "metadata": {},
   "outputs": [],
   "source": [
    "def date_extract(text):\n",
    "    dates = list(dates_extractor(text))\n",
    "    print(dates)\n",
    "    return [{'text': text[_.start:_.stop], 'match': _, \n",
    "             'context': context(text, _.start, _.stop),\n",
    "             'start': _.start, 'stop': _.stop\n",
    "            } for _ in dates]\n",
    "\n",
    "def extract(text: str):\n",
    "    return {\"ner\": nerr(text), \"date\": date_extract(text)}\n"
   ]
  },
  {
   "cell_type": "code",
   "execution_count": null,
   "id": "d277949c",
   "metadata": {},
   "outputs": [],
   "source": [
    "text = \"\"\"Посольство Китая во Франции удалило из своего официального аккаунта в соцсети WeChat расшифровку интервью посла Лу Шая. Стенограмма была доступна несколько часов, но сейчас там, где она была опубликована, стоит пометка «удалена автором».\n",
    "\n",
    "Лу Шай дал интервью французскому телеканалу LCI 21 апреля. Он, в числе прочего, заявил, что Крым «с самого начала принадлежал России», а Никита Хрущев «подарил Крым Украине во времена Советского Союза». Кроме того, посол Китая во Франции заявил, что страны бывшего СССР «не имеют эффективного статуса в международном праве, потому что не существует международного соглашения, которое придавало бы силу их статусу суверенных стран».\n",
    "\n",
    "Интервью Лу Шая вызвало огромный резонанс, в частности, его осудили представители стран Балтии и Украины, а МИД КНР пришлось официально заявлять, что Китай уважает суверенитет всех стран, которые ранее входили в состав СССР, а его позиция по Крыму «остается неизменной».\"\"\"\n",
    "\n",
    "extract(text)\n"
   ]
  },
  {
   "cell_type": "code",
   "execution_count": null,
   "id": "f10d66ac",
   "metadata": {},
   "outputs": [],
   "source": [
    "extract(\"\"\"Президент РФ Владимир Путин подписал указ, предусматривающий «передачу во временное управление» активов юридических и физических лиц из «недружественных стран» в случае изъятия российских активов за рубежом.\n",
    "\n",
    "Указ, носящий название «О временном управлении некоторым имуществом», Указ переводит под временное управление Росимущества акции немецкой энергетической компании Uniper SE и Fortum Russia B.V. — совместного предприятия с участием финской государственной энергетической компании.\n",
    "\n",
    "После начала полномасштабного вторжения войск РФ в Украину российские власти ввели ряд ограничений для иностранных компаний и бизнесменов из «недружественных стран», в список которых включены все государства, поддержавшие санкции в отношении России. Так, в частности, продажа компаниями из «недружественных стран» активов в России требует согласования правительственной комиссией. Условием согласования сделок является скидка — не менее 50% от рыночной стоимости активов, рассрочка оплаты или перечисление 10% от суммы сделки в бюджет РФ.\"\"\")"
   ]
  }
 ],
 "metadata": {
  "kernelspec": {
   "display_name": "Python 3 (ipykernel)",
   "language": "python",
   "name": "python3"
  },
  "language_info": {
   "codemirror_mode": {
    "name": "ipython",
    "version": 3
   },
   "file_extension": ".py",
   "mimetype": "text/x-python",
   "name": "python",
   "nbconvert_exporter": "python",
   "pygments_lexer": "ipython3",
   "version": "3.7.2"
  }
 },
 "nbformat": 4,
 "nbformat_minor": 5
}
