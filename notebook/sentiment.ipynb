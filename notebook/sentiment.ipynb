{
 "cells": [
  {
   "cell_type": "code",
   "execution_count": null,
   "id": "65c28399",
   "metadata": {},
   "outputs": [],
   "source": [
    "pip install dostoevsky"
   ]
  },
  {
   "cell_type": "code",
   "execution_count": null,
   "id": "cb385cba",
   "metadata": {},
   "outputs": [],
   "source": [
    "!python -m dostoevsky download fasttext-social-network-model"
   ]
  },
  {
   "cell_type": "code",
   "execution_count": null,
   "id": "bddf441d",
   "metadata": {},
   "outputs": [],
   "source": [
    "from dostoevsky.tokenization import RegexTokenizer\n",
    "from dostoevsky.models import FastTextSocialNetworkModel\n",
    "\n",
    "tokenizer = RegexTokenizer()\n",
    "tokens = tokenizer.split('всё очень плохо')  # [('всё', None), ('очень', None), ('плохо', None)]\n",
    "\n",
    "model = FastTextSocialNetworkModel(tokenizer=tokenizer)\n",
    "\n",
    "messages = [\n",
    "    'привет',\n",
    "    'я люблю тебя!!',\n",
    "    'малолетние дебилы',\n",
    "    'всё очень плохо',\n",
    "    \"дебилы блядь\"\n",
    "]\n",
    "\n",
    "results = model.predict(messages, k=3)\n",
    "\n",
    "for message, sentiment in zip(messages, results):\n",
    "    # привет -> {'speech': 1.0000100135803223, 'skip': 0.0020607432816177607}\n",
    "    # люблю тебя!! -> {'positive': 0.9886782765388489, 'skip': 0.005394937004894018}\n",
    "    # малолетние дебилы -> {'negative': 0.9525841474533081, 'neutral': 0.13661839067935944}]\n",
    "    print(message, '->', sentiment)"
   ]
  },
  {
   "cell_type": "code",
   "execution_count": null,
   "id": "1a4f698e",
   "metadata": {},
   "outputs": [],
   "source": []
  }
 ],
 "metadata": {
  "kernelspec": {
   "display_name": "Python 3 (ipykernel)",
   "language": "python",
   "name": "python3"
  },
  "language_info": {
   "codemirror_mode": {
    "name": "ipython",
    "version": 3
   },
   "file_extension": ".py",
   "mimetype": "text/x-python",
   "name": "python",
   "nbconvert_exporter": "python",
   "pygments_lexer": "ipython3",
   "version": "3.7.2"
  }
 },
 "nbformat": 4,
 "nbformat_minor": 5
}
